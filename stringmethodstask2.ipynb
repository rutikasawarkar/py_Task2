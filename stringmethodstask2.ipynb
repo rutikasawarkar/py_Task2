{
 "cells": [
  {
   "cell_type": "markdown",
   "id": "0c2c4f2c-a3b5-47ab-b424-7f90c9044629",
   "metadata": {},
   "source": [
    "# Python String Methods\n"
   ]
  },
  {
   "cell_type": "markdown",
   "id": "39d35f11-fd6c-4fcd-b3af-64227c7ac8ab",
   "metadata": {},
   "source": [
    "# 1 Capitalize()\n",
    "# Capitalizes the first character of the string."
   ]
  },
  {
   "cell_type": "code",
   "execution_count": 13,
   "id": "39f88f82-5815-4872-bbe2-bdb5b98a38c4",
   "metadata": {},
   "outputs": [
    {
     "name": "stdout",
     "output_type": "stream",
     "text": [
      "Hello nagpur\n"
     ]
    }
   ],
   "source": [
    "text = \"hello nagpur\"\n",
    "capitalized_text = text.capitalize()\n",
    "print(capitalized_text)"
   ]
  },
  {
   "cell_type": "code",
   "execution_count": 87,
   "id": "f6fcdb25-eb26-4622-b05c-7404d0ab8450",
   "metadata": {},
   "outputs": [
    {
     "name": "stdout",
     "output_type": "stream",
     "text": [
      "Hello arc\n"
     ]
    }
   ],
   "source": [
    "text = \"hello ARC\"\n",
    "capitalized_text = text.capitalize()\n",
    "print(capitalized_text)"
   ]
  },
  {
   "cell_type": "markdown",
   "id": "e1b1ea98-c060-4f73-8a6d-34927c4c1632",
   "metadata": {},
   "source": [
    "# 2 Casefold()\n",
    "\n",
    "# Converts the string to casefolded string for caseless matching."
   ]
  },
  {
   "cell_type": "code",
   "execution_count": 11,
   "id": "2fd9307e-84a4-4915-90ca-af679b5ce4f9",
   "metadata": {},
   "outputs": [
    {
     "name": "stdout",
     "output_type": "stream",
     "text": [
      "hello nagpur\n"
     ]
    }
   ],
   "source": [
    "text = \"hello Nagpur\"\n",
    "casefolded_text = text.casefold()\n",
    "print(casefolded_text)"
   ]
  },
  {
   "cell_type": "markdown",
   "id": "b06d7564-74f6-4531-aa2c-fd7a6962b4ad",
   "metadata": {},
   "source": [
    "# 3 Center()\n",
    "# Centers the string within a given width, filling with the specified character"
   ]
  },
  {
   "cell_type": "code",
   "execution_count": 16,
   "id": "1ba60597-3730-4f08-abf1-9f81a32f49a6",
   "metadata": {},
   "outputs": [
    {
     "name": "stdout",
     "output_type": "stream",
     "text": [
      "***hii****\n"
     ]
    }
   ],
   "source": [
    "text = \"hii\"\n",
    "centered_text = text.center(10, '*')\n",
    "print(centered_text)"
   ]
  },
  {
   "cell_type": "markdown",
   "id": "ffeabc20-bfe4-4cd0-8ce2-cdb6d4972e47",
   "metadata": {},
   "source": [
    "# 4 Count()\n",
    "# Returns the number of occurrences of a substring in the string."
   ]
  },
  {
   "cell_type": "code",
   "execution_count": 23,
   "id": "2e6accc0-fc67-45c9-abaf-de57696cf461",
   "metadata": {},
   "outputs": [
    {
     "name": "stdout",
     "output_type": "stream",
     "text": [
      "2\n"
     ]
    }
   ],
   "source": [
    "text = \"apple\"\n",
    "count = text.count('p')\n",
    "print(count)"
   ]
  },
  {
   "cell_type": "markdown",
   "id": "70dbac42-d2b4-4f13-ac04-9f72f66813bb",
   "metadata": {},
   "source": [
    "# 5 encode()\n",
    "# Returns an encoded version of the string"
   ]
  },
  {
   "cell_type": "code",
   "execution_count": 53,
   "id": "01065aba-a4fd-4625-8901-bf0d1f7f174b",
   "metadata": {},
   "outputs": [
    {
     "name": "stdout",
     "output_type": "stream",
     "text": [
      "b'My name is Siri'\n"
     ]
    }
   ],
   "source": [
    "text = \"My name is Siri\"\n",
    "en_code = text.encode()\n",
    "print(en_code)"
   ]
  },
  {
   "cell_type": "markdown",
   "id": "3d82e1b1-8dc6-4440-bc16-c73bc518b738",
   "metadata": {},
   "source": [
    "# 6 endswith()\n",
    "# Returns True if the string end with specified suffix"
   ]
  },
  {
   "cell_type": "code",
   "execution_count": 29,
   "id": "1152ec7e-6a8a-43ac-a401-7b90d2b0462d",
   "metadata": {},
   "outputs": [
    {
     "name": "stdout",
     "output_type": "stream",
     "text": [
      "True\n"
     ]
    }
   ],
   "source": [
    "text = \"Hello Nagpur\"\n",
    "ends_with = text.endswith('Nagpur')\n",
    "print(ends_with)"
   ]
  },
  {
   "cell_type": "markdown",
   "id": "fb121395-df36-495e-841f-d15d85bb4d8c",
   "metadata": {},
   "source": [
    "# 7 find()\n",
    "# Returns the lowest index of the substring if found, otherwise -1."
   ]
  },
  {
   "cell_type": "code",
   "execution_count": 34,
   "id": "73cfd41e-b9bc-4cf3-b3a6-ab87ba3e481a",
   "metadata": {},
   "outputs": [
    {
     "name": "stdout",
     "output_type": "stream",
     "text": [
      "-1\n"
     ]
    }
   ],
   "source": [
    "text = \"hello, wlecome to my world\"\n",
    "index = text .find('welcome')\n",
    "print(index)"
   ]
  },
  {
   "cell_type": "markdown",
   "id": "ef233ea2-54b5-4dae-be50-3815f0d860cb",
   "metadata": {},
   "source": [
    "# 8 Split()\n",
    "# Splits the string into a list where each word is a list item."
   ]
  },
  {
   "cell_type": "code",
   "execution_count": 39,
   "id": "b195b1eb-462e-4de0-9166-94023495779d",
   "metadata": {},
   "outputs": [
    {
     "name": "stdout",
     "output_type": "stream",
     "text": [
      "['Hello', 'India']\n"
     ]
    }
   ],
   "source": [
    "text = \"Hello India\"\n",
    "split_text = text.split()\n",
    "print(split_text)"
   ]
  },
  {
   "cell_type": "markdown",
   "id": "37b4c942-32c6-4100-be65-ff2b12c11f7d",
   "metadata": {},
   "source": [
    "# 9 upper()\n",
    "# Converts all cahracters of the string to uppercase."
   ]
  },
  {
   "cell_type": "code",
   "execution_count": 42,
   "id": "00abe976-5377-46a1-b5ae-ca4d4dcd11b6",
   "metadata": {},
   "outputs": [
    {
     "name": "stdout",
     "output_type": "stream",
     "text": [
      "HELLO\n"
     ]
    }
   ],
   "source": [
    "text = \"hello\"\n",
    "upper_text = text.upper()\n",
    "print(upper_text)"
   ]
  },
  {
   "cell_type": "markdown",
   "id": "35c42787-a5fc-45db-afad-119749098bfc",
   "metadata": {},
   "source": [
    "# 10 lower()\n",
    "# Converts all cahracters of the string to lowercase."
   ]
  },
  {
   "cell_type": "code",
   "execution_count": 47,
   "id": "657e3720-e6dd-4f03-992a-78281323a72c",
   "metadata": {},
   "outputs": [
    {
     "name": "stdout",
     "output_type": "stream",
     "text": [
      "hello\n"
     ]
    }
   ],
   "source": [
    "text = \"hello\"\n",
    "lower_text = text.lower()\n",
    "print(lower_text)"
   ]
  },
  {
   "cell_type": "markdown",
   "id": "77300dda-1d50-4c7d-8536-eaee9820f123",
   "metadata": {},
   "source": [
    "# 11 isalnum()\n",
    "# Returns True if all characters in the string are alphanumeric"
   ]
  },
  {
   "cell_type": "code",
   "execution_count": 51,
   "id": "c23e87f0-4e1c-42cb-bd9c-66a59185ccc7",
   "metadata": {},
   "outputs": [
    {
     "name": "stdout",
     "output_type": "stream",
     "text": [
      "True\n"
     ]
    }
   ],
   "source": [
    "text = \"Company12\"\n",
    "\n",
    "is_alnum = text.isalnum()\n",
    "\n",
    "print(is_alnum)"
   ]
  },
  {
   "cell_type": "markdown",
   "id": "cb272fab-5862-455b-af4d-93b6c3dfe09f",
   "metadata": {},
   "source": [
    "# 12 isdigit()\n",
    "# Returns True if all characters in the string are digits"
   ]
  },
  {
   "cell_type": "code",
   "execution_count": 57,
   "id": "cb771867-8a35-412f-8b89-51bf58dc9f58",
   "metadata": {},
   "outputs": [
    {
     "name": "stdout",
     "output_type": "stream",
     "text": [
      "True\n"
     ]
    }
   ],
   "source": [
    "text = \"12345678\"\n",
    "\n",
    "is_digit = text.isdigit()\n",
    "\n",
    "print(is_digit)"
   ]
  },
  {
   "cell_type": "markdown",
   "id": "c6da8d58-293f-41b0-9b91-92bb2b49d9fe",
   "metadata": {},
   "source": [
    "# 13 isidentifier()\n",
    "# Returns True if the string is an identifier"
   ]
  },
  {
   "cell_type": "code",
   "execution_count": 60,
   "id": "a6db0c29-3d55-4cd3-b717-0f5b2ed02896",
   "metadata": {},
   "outputs": [
    {
     "name": "stdout",
     "output_type": "stream",
     "text": [
      "True\n",
      "True\n",
      "False\n",
      "False\n"
     ]
    }
   ],
   "source": [
    "a = \"MyFolder\"\n",
    "b = \"Demo002\"\n",
    "c = \"2bring\"\n",
    "d = \"my demo\"\n",
    "\n",
    "print(a.isidentifier())\n",
    "print(b.isidentifier())\n",
    "print(c.isidentifier())\n",
    "print(d.isidentifier())"
   ]
  },
  {
   "cell_type": "markdown",
   "id": "c4d38889-b091-4676-b19f-c2d0d17e7195",
   "metadata": {},
   "source": [
    "# 14 isnumeric()\n",
    "# Returns True if all characters in the string are numeric"
   ]
  },
  {
   "cell_type": "code",
   "execution_count": 63,
   "id": "084b8525-6c31-4ae4-934c-fafd51b197db",
   "metadata": {},
   "outputs": [
    {
     "name": "stdout",
     "output_type": "stream",
     "text": [
      "True\n"
     ]
    }
   ],
   "source": [
    "text = \"565543\"\n",
    "\n",
    "is_numeric = text.isnumeric()\n",
    "\n",
    "print(is_numeric)"
   ]
  },
  {
   "cell_type": "markdown",
   "id": "f2fd0951-463f-4d28-80e8-f9a7253fbfd0",
   "metadata": {},
   "source": [
    "# 15 title()\n",
    "# converts the first character of each word to uppercase and the rest to lowercase.\n"
   ]
  },
  {
   "cell_type": "code",
   "execution_count": 66,
   "id": "8b50afad-d23b-42be-aa2f-ef44fc77d4a5",
   "metadata": {},
   "outputs": [
    {
     "name": "stdout",
     "output_type": "stream",
     "text": [
      "Hello India\n"
     ]
    }
   ],
   "source": [
    "text = \"hello India\"\n",
    "title_text = text.title()\n",
    "print(title_text)"
   ]
  },
  {
   "cell_type": "markdown",
   "id": "8259a7e2-4d20-43e4-8465-7e2e816e74f5",
   "metadata": {},
   "source": [
    "# 16 join()\n",
    "# Joins the elements of an iterable with the string as a separator.\n"
   ]
  },
  {
   "cell_type": "code",
   "execution_count": 69,
   "id": "9683d245-9808-480c-8ad3-56f9711384a4",
   "metadata": {},
   "outputs": [
    {
     "name": "stdout",
     "output_type": "stream",
     "text": [
      "Hello Nagpur\n"
     ]
    }
   ],
   "source": [
    "text_list = [\"Hello\", \"Nagpur\"]\n",
    "joined_text = \" \".join(text_list)\n",
    "print(joined_text)"
   ]
  },
  {
   "cell_type": "markdown",
   "id": "a8c9a91a-a91d-4a29-8dbb-466099600db4",
   "metadata": {},
   "source": [
    "# 17 startswith()\n",
    "# Returns True if the string starts with the specified prefix.\n"
   ]
  },
  {
   "cell_type": "code",
   "execution_count": 72,
   "id": "a9786450-56bb-4e17-b3eb-f3616ba58e85",
   "metadata": {},
   "outputs": [
    {
     "name": "stdout",
     "output_type": "stream",
     "text": [
      "True\n"
     ]
    }
   ],
   "source": [
    "text = \"Hello Nagpur\"\n",
    "starts_with = text.startswith('Hello')\n",
    "print(starts_with)"
   ]
  },
  {
   "cell_type": "markdown",
   "id": "cc2038e4-1063-41d2-aa65-5f426834a288",
   "metadata": {},
   "source": [
    "# 18 partition()\n",
    "# Returns a tuple where the string is parted into three parts"
   ]
  },
  {
   "cell_type": "code",
   "execution_count": 75,
   "id": "0902b6ce-6ea4-4147-99c7-7f8efac1201a",
   "metadata": {},
   "outputs": [
    {
     "name": "stdout",
     "output_type": "stream",
     "text": [
      "('I could not eat ', 'bananas', ' all day')\n"
     ]
    }
   ],
   "source": [
    "text = \"I could not eat bananas all day\"\n",
    "\n",
    "partition_text = text.partition(\"bananas\")\n",
    "\n",
    "print(partition_text)"
   ]
  },
  {
   "cell_type": "markdown",
   "id": "e1683586-5eab-4bbd-a1df-1f91a8aef314",
   "metadata": {},
   "source": [
    "# 19 translate()\n",
    "# Returns a translated string"
   ]
  },
  {
   "cell_type": "code",
   "execution_count": 82,
   "id": "bc62127c-3937-416d-9db1-914d4a4ac89d",
   "metadata": {},
   "outputs": [
    {
     "name": "stdout",
     "output_type": "stream",
     "text": [
      "Hello Riya!\n"
     ]
    }
   ],
   "source": [
    "text = \"Hello Siya!\"\n",
    "mytable = str.maketrans(\"S\", \"R\")\n",
    "print(text.translate(mytable))"
   ]
  },
  {
   "cell_type": "markdown",
   "id": "22ddf04f-b388-4c22-9ccf-5273c92910bd",
   "metadata": {},
   "source": [
    "# 20 Swapcase()\n",
    "# Swaps cases, lower case becomes upper case and vice versa"
   ]
  },
  {
   "cell_type": "code",
   "execution_count": 85,
   "id": "f8f3504c-b9a9-42a0-a778-4595fd55f421",
   "metadata": {},
   "outputs": [
    {
     "name": "stdout",
     "output_type": "stream",
     "text": [
      "hELLO mY nAME iS rOMAN\n"
     ]
    }
   ],
   "source": [
    "text = \"Hello My Name Is Roman\"\n",
    "\n",
    "swapcase_text = text.swapcase()\n",
    "\n",
    "print(swapcase_text)"
   ]
  },
  {
   "cell_type": "code",
   "execution_count": null,
   "id": "ee0971dd-7a23-4208-b1c9-955ce74ae962",
   "metadata": {},
   "outputs": [],
   "source": []
  }
 ],
 "metadata": {
  "kernelspec": {
   "display_name": "Python 3 (ipykernel)",
   "language": "python",
   "name": "python3"
  },
  "language_info": {
   "codemirror_mode": {
    "name": "ipython",
    "version": 3
   },
   "file_extension": ".py",
   "mimetype": "text/x-python",
   "name": "python",
   "nbconvert_exporter": "python",
   "pygments_lexer": "ipython3",
   "version": "3.12.4"
  }
 },
 "nbformat": 4,
 "nbformat_minor": 5
}
